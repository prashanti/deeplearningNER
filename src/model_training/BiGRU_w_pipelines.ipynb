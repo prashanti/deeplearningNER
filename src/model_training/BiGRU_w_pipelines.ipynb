{
 "cells": [
  {
   "cell_type": "code",
   "execution_count": null,
   "metadata": {
    "id": "7uxpj2z3WCyv"
   },
   "outputs": [],
   "source": [
    "EMBEDDING = \"CRAFT\"\n",
    "EXPERIMENT_NO = \"1\"\n",
    "PROJECT_NAME = \"NEMOA\""
   ]
  },
  {
   "cell_type": "code",
   "execution_count": null,
   "metadata": {
    "colab": {
     "base_uri": "https://localhost:8080/"
    },
    "id": "ZHNMu4aOWD2P",
    "outputId": "03fdceef-b646-4eef-a04e-70722a61bfe5"
   },
   "outputs": [
    {
     "name": "stdout",
     "output_type": "stream",
     "text": [
      "WARNING:tensorflow:From /usr/local/lib/python3.7/dist-packages/tensorflow/python/compat/v2_compat.py:111: disable_resource_variables (from tensorflow.python.ops.variable_scope) is deprecated and will be removed in a future version.\n",
      "Instructions for updating:\n",
      "non-resource variables are not supported in the long term\n"
     ]
    }
   ],
   "source": [
    "import json\n",
    "import os\n",
    "import pickle\n",
    "from itertools import chain\n",
    "from time import sleep\n",
    "\n",
    "\n",
    "if EMBEDDING == \"ELMO\":\n",
    "    import tensorflow.compat.v1 as tf\n",
    "    tf.disable_v2_behavior()\n",
    "    from tensorflow.keras import backend as K\n",
    "\n",
    "    from tensorflow.compat.v1.keras.backend import set_session\n",
    "    import tensorflow_hub as hub\n",
    "else:\n",
    "    import tensorflow as tf\n",
    "from tensorflow.keras.layers import GRU, Dense, Dropout, InputLayer, Embedding, Bidirectional, TimeDistributed, Input, Concatenate, SpatialDropout1D, Reshape, Lambda\n",
    "from tensorflow.keras.models import Sequential, Model\n",
    "from tensorflow.keras.preprocessing.sequence import pad_sequences\n",
    "from tensorflow.keras.utils import to_categorical\n",
    "from tensorflow.keras.callbacks import TensorBoard, ReduceLROnPlateau, EarlyStopping\n",
    "from tensorflow.keras.optimizers import Adam\n",
    "from tensorflow.keras.metrics import SparseCategoricalAccuracy\n",
    "from tensorflow.keras.losses import SparseCategoricalCrossentropy, CategoricalCrossentropy\n",
    "\n",
    "import numpy as np\n",
    "import pandas as pd\n",
    "\n",
    "from gensim.models import KeyedVectors\n",
    "from sklearn.metrics import classification_report"
   ]
  },
  {
   "cell_type": "code",
   "execution_count": null,
   "metadata": {
    "id": "drRJRB2RWE2G"
   },
   "outputs": [],
   "source": [
    "%%capture\n",
    "!pip install wandb\n",
    "\n",
    "import wandb\n",
    "from wandb.keras import WandbCallback"
   ]
  },
  {
   "cell_type": "code",
   "execution_count": null,
   "metadata": {
    "id": "WTNS_P1GWUb8"
   },
   "outputs": [],
   "source": [
    "BASE_DIR = '/content/drive/MyDrive/Craft_4_Seq_ONER'\n",
    "DATA_DIR = os.path.join(BASE_DIR, \"data\")\n",
    "MODEL_DIR = os.path.join(BASE_DIR, \"model_output\", \"Experiments\")\n",
    "OLD_DIR = '/content/drive/MyDrive/model_data/last_experiment'\n",
    "GLOVE_EMB_FILE = os.path.join(BASE_DIR, \"Embedding\", \"glove.840B.300d.bin\")\n",
    "DATASET_LOC = os.path.join(DATA_DIR, \"model_input\", \"dataset\")\n",
    "subsumer_file = os.path.join(DATA_DIR, \"GO_Category\", \"GO_AllSubsumers.tsv\")"
   ]
  },
  {
   "cell_type": "code",
   "execution_count": null,
   "metadata": {
    "id": "GNDtFwYVjcgH"
   },
   "outputs": [],
   "source": [
    "subsumers = dict()\n",
    "infile = open(subsumer_file)\n",
    "for line in infile:\n",
    "    child, subsumer = line.strip().split(\"\\t\")\n",
    "    if child not in subsumers:\n",
    "        subsumers[child] = set()\n",
    "        subsumers[child].add(child)\n",
    "    if subsumer != \"owl:Thing\":\n",
    "        subsumers[child].add(subsumer)"
   ]
  },
  {
   "cell_type": "code",
   "execution_count": null,
   "metadata": {
    "id": "LRrT4RUgjihe"
   },
   "outputs": [],
   "source": [
    "def simj(term1,term2,ancestors):\n",
    "    if term1 not in ancestors:\n",
    "        ancestors[term1]=set(term1)\n",
    "    if term2 not in ancestors:\n",
    "        ancestors[term2]=set(term2)\n",
    "    if len(set.union(ancestors[term1],ancestors[term2])) >0:\n",
    "        simj=len(set.intersection(ancestors[term1],ancestors[term2]))/len(set.union(ancestors[term1],ancestors[term2]))\n",
    "    else:\n",
    "        simj=0\n",
    "    return simj"
   ]
  },
  {
   "cell_type": "code",
   "execution_count": null,
   "metadata": {
    "id": "Qy6qmUJYjkx1"
   },
   "outputs": [],
   "source": [
    "def getsimj(term1, term2):\n",
    "    if term1 == term2:\n",
    "        return 0 if term1 == \"O\" else 1\n",
    "    else:\n",
    "        return simj(term1, term2, subsumers)"
   ]
  },
  {
   "cell_type": "code",
   "execution_count": null,
   "metadata": {
    "id": "ErT-Lf4xWV0r"
   },
   "outputs": [],
   "source": [
    "RUN = \"{0}_{1}\".format(EMBEDDING, EXPERIMENT_NO)\n",
    "config = {\n",
    "    \"RUN\": RUN, \"OPTIMIZER\": \"Adam\", \"MODEL_NAME\": \"GRU_{0}\".format(EMBEDDING),\n",
    "    \"BATCH_SIZE\": 16, \"MIN_SENT_LEN\": 3, \"MAX_WORD_LEN\": 71, \"MAX_CHAR_LEN\": 15, \"EPOCHS\": 300,\n",
    "    \"LEARNING_RATE\": 0.001, \"PAD_CHAR\": \"@\", \"EARLY_STOPPING\": True, \"RECURRENT_DROPOUT\": False,\n",
    "    \"DROPOUT\": 0.1, \"EMBEDDING\": EMBEDDING, \"IGNORE_PAD_LOSS\": True, \"ONE_HOT_ENCODING\": False,\n",
    "     \"OPTIMIZED_CLASS_WEIGHT\": True, \"REDUCE_LR_ON_PLATEAU\": True, \"PROJECT_NAME\": PROJECT_NAME\n",
    "}\n",
    "config.update({\n",
    "    \"INPUT_LAYERS\": {\n",
    "        'tokens': True,\n",
    "        'characters': True,\n",
    "        'encodings': True,\n",
    "        'iob_tags': True,\n",
    "        'pos_tags': True,\n",
    "        'protein_terms': True,\n",
    "        'biomedical_terms': True,\n",
    "        'chemical_terms': False,\n",
    "        'macromolecule_terms': False,        \n",
    "        'umls_terms': False\n",
    "        }})\n",
    "emb = config.get(\"EMBEDDING\").upper()\n",
    "emb_dim = 1024\n",
    "if emb == \"CRAFT\":\n",
    "    emb_dim = 100\n",
    "elif emb == \"GLOVE\":\n",
    "    emb_dim = 300\n",
    "elif emb == \"ELMO\":\n",
    "    config.update({\"ONE_HOT_ENCODING\": True,\n",
    "                   \"IGNORE_PAD_LOSS\": False,\n",
    "                   \"OPTIMIZED_CLASS_WEIGHT\": False\n",
    "                   })\n",
    "config.update({\"EMBEDDING_DIM\": emb_dim})\n",
    "config.update(config.get(\"INPUT_LAYERS\"))\n",
    "OPTIMIZER = Adam(learning_rate=config.get(\"LEARNING_RATE\", 0.001))"
   ]
  },
  {
   "cell_type": "code",
   "execution_count": null,
   "metadata": {
    "colab": {
     "base_uri": "https://localhost:8080/",
     "height": 52
    },
    "id": "gug0N17BXXgk",
    "outputId": "8bb93a21-6375-45a3-908a-a8f13f612c74"
   },
   "outputs": [
    {
     "name": "stderr",
     "output_type": "stream",
     "text": [
      "\u001b[34m\u001b[1mwandb\u001b[0m: Currently logged in as: \u001b[33mp_devkota\u001b[0m (use `wandb login --relogin` to force relogin)\n"
     ]
    },
    {
     "data": {
      "text/html": [
       "\n",
       "                    Syncing run <strong><a href=\"https://wandb.ai/p_devkota/ONER_FINAL/runs/2lcz0btw\" target=\"_blank\">ELMO_6</a></strong> to <a href=\"https://wandb.ai/p_devkota/ONER_FINAL\" target=\"_blank\">Weights & Biases</a> (<a href=\"https://docs.wandb.com/integrations/jupyter.html\" target=\"_blank\">docs</a>).<br/>\n",
       "\n",
       "                "
      ],
      "text/plain": [
       "<IPython.core.display.HTML object>"
      ]
     },
     "metadata": {},
     "output_type": "display_data"
    }
   ],
   "source": [
    "temp_config = dict((k, v) for k, v in config.items() if k != \"INPUT_LAYERS\")\n",
    "wb_run = wandb.init(project=config.get(\"PROJECT_NAME\"), config=temp_config, name=config[\"RUN\"], reinit=True)"
   ]
  },
  {
   "cell_type": "code",
   "execution_count": null,
   "metadata": {
    "colab": {
     "base_uri": "https://localhost:8080/"
    },
    "id": "JW75CUN-XeRb",
    "outputId": "d9fc3156-3f97-4725-efbe-d6cfcc0392fb"
   },
   "outputs": [
    {
     "data": {
      "text/plain": [
       "<wandb.sdk.wandb_artifacts.Artifact at 0x7f71c434ae50>"
      ]
     },
     "execution_count": 10,
     "metadata": {},
     "output_type": "execute_result"
    }
   ],
   "source": [
    "test_data = json.load(open(os.path.join(DATASET_LOC, \"test.json\"), \"r\"))\n",
    "\n",
    "if config.get('augmentation'):\n",
    "    train_data = json.load(open(os.path.join(DATASET_LOC, \"train_augmented.json\"), \"r\"))\n",
    "else:\n",
    "    train_data = json.load(open(os.path.join(DATASET_LOC, \"train.json\"), \"r\"))\n",
    "\n",
    "train_data = [i for i in train_data if len(i['tokens']) >= config['MIN_SENT_LEN']]\n",
    "train_data = train_data[:len(train_data)//config.get(\"BATCH_SIZE\")*config.get(\"BATCH_SIZE\")]\n",
    "\n",
    "test_data = [i for i in test_data if len(i['tokens']) >= config['MIN_SENT_LEN']]\n",
    "test_data = test_data[:len(test_data)//config.get(\"BATCH_SIZE\")*config.get(\"BATCH_SIZE\")]\n",
    "\n",
    "prep_data = wandb.Artifact(\"pre_train\", type=\"dataset\",\n",
    "        description=\"Training data imported from source\",\n",
    "        metadata={\"source\": DATASET_LOC,\n",
    "                  \"augmented\": True if config.get('augmentation') else False,\n",
    "                  \"size\": len(train_data)})\n",
    "with prep_data.new_file(\"train_dataset.json\", \"w\") as file:\n",
    "    json.dump(train_data, file)\n",
    "wb_run.log_artifact(prep_data)\n",
    "\n",
    "prep_data = wandb.Artifact(\"pre_test\", type=\"dataset\",\n",
    "        description=\"Test data imported from source\",\n",
    "        metadata={\"source\": DATASET_LOC,\n",
    "                  \"augmented\": True if config.get('augmentation') else False,\n",
    "                  \"size\": len(test_data)})\n",
    "with prep_data.new_file(\"test_dataset.json\", \"w\") as file:\n",
    "    json.dump(test_data, file)\n",
    "wb_run.log_artifact(prep_data)"
   ]
  },
  {
   "cell_type": "code",
   "execution_count": null,
   "metadata": {
    "id": "X-mH21wtXt7X"
   },
   "outputs": [],
   "source": [
    "################################## TOKENS ######################################\n",
    "if config.get(\"tokens\"):\n",
    "    all_words = [j for i in train_data + test_data for j in i['tokens']]\n",
    "    unique_words = sorted(list(set(all_words)))\n",
    "\n",
    "    word2idx = {**{config.get(\"PAD_CHAR\"): 0}, **{w: i for i, w in enumerate(unique_words, 1)}}\n",
    "    idx2word = {i: w for w, i in word2idx.items()}\n",
    "    n_words = len(unique_words) + 1\n",
    "\n",
    "################################ CHARACTERS ####################################\n",
    "if config.get(\"characters\"):\n",
    "    all_chars = [j for i in all_words for j in i]\n",
    "    unique_chars = sorted(list(set(all_chars)))\n",
    "\n",
    "    char2idx = {**{config.get(\"PAD_CHAR\"): 0}, **{c: i for i, c in enumerate(unique_chars, 1)}}\n",
    "    n_chars = len(unique_chars) + 1\n",
    "\n",
    "################################# ENCODINGS ####################################\n",
    "if config.get(\"encodings\"):\n",
    "    all_char_encs = [j for i in train_data + test_data for j in i['encodings']]\n",
    "    unique_char_encs = sorted(list(set(all_char_encs)))\n",
    "\n",
    "    charenc2idx = {**{config.get(\"PAD_CHAR\"): 0}, **{c: i for i, c in enumerate(unique_char_encs, 1)}}\n",
    "    n_char_encs = len(unique_char_encs) + 1\n",
    "\n",
    "################################# POS TAGS #####################################\n",
    "if config.get(\"pos_tags\"):\n",
    "    all_pos = [j for i in train_data + test_data for j in i['pos_tags']]\n",
    "    unique_pos = sorted(list(set(all_pos)))\n",
    "\n",
    "    pos2idx = {**{config.get(\"PAD_CHAR\"): 0}, **{p: i for i, p in enumerate(unique_pos, 1)}}\n",
    "    n_pos = len(unique_pos) + 1\n",
    "\n",
    "################################# IOB TAGS #####################################\n",
    "if config.get(\"iob_tags\"):\n",
    "    all_tags = [j for i in train_data + test_data for j in i['iob_tags']]\n",
    "    unique_tags = sorted(list(set(all_tags)))\n",
    "\n",
    "    tag2idx = {**{config.get(\"PAD_CHAR\"): 0}, **{t: i for i, t in enumerate(unique_tags, 1)}}\n",
    "    idx2tag = {i: t for t, i in tag2idx.items()}\n",
    "    n_tags = len(unique_tags) + 1"
   ]
  },
  {
   "cell_type": "code",
   "execution_count": null,
   "metadata": {
    "id": "R-uoaIlPaEgS"
   },
   "outputs": [],
   "source": [
    "X_train, X_test = [], []\n",
    "\n",
    "# ------------------------------------------------------------------------------\n",
    "if config.get(\"tokens\"):\n",
    "    if config.get(\"EMBEDDING\") == \"ELMO\":\n",
    "        token_train = [(i['tokens'], len(i['tokens'])) for i in train_data]\n",
    "        X_token_train = [i[0][:config.get(\"MAX_WORD_LEN\")] + [\"\"]*(config.get(\"MAX_WORD_LEN\")-i[1]) for i in token_train]\n",
    "        X_train.append(np.array(X_token_train))\n",
    "\n",
    "        token_test = [(i['tokens'], len(i['tokens'])) for i in test_data]\n",
    "        X_token_test = [i[0][:config.get(\"MAX_WORD_LEN\")] + [\"\"]*(config.get(\"MAX_WORD_LEN\")-i[1]) for i in token_test]\n",
    "        X_test.append(np.array(X_token_test))\n",
    "    else:\n",
    "        X_token_train = [list(map(word2idx.get, i['tokens'])) for i in train_data]\n",
    "        X_token_train = pad_sequences(maxlen=config.get(\"MAX_WORD_LEN\"), sequences=X_token_train, padding='post', value=word2idx[config.get(\"PAD_CHAR\")], truncating='post')\n",
    "        X_train.append(X_token_train)\n",
    "\n",
    "        X_token_test = [list(map(word2idx.get, i['tokens'])) for i in test_data]\n",
    "        X_token_test = pad_sequences(maxlen=config.get(\"MAX_WORD_LEN\"), sequences=X_token_test, padding='post', value=word2idx[config.get(\"PAD_CHAR\")], truncating='post')\n",
    "        X_test.append(X_token_test)\n",
    "\n",
    "# ------------------------------------------------------------------------------\n",
    "if config.get(\"characters\"):\n",
    "    X_char_train = [[list(map(char2idx.get, (j[:config.get(\"MAX_CHAR_LEN\")] + config.get(\"PAD_CHAR\") * (config.get(\"MAX_CHAR_LEN\") - len(j))))) for j in (i['tokens'] + [config.get(\"PAD_CHAR\")*config.get(\"MAX_CHAR_LEN\")]*(config.get(\"MAX_WORD_LEN\") - len(i['tokens'])))] for i in train_data]\n",
    "    X_char_train = pad_sequences(maxlen=config.get(\"MAX_WORD_LEN\"), sequences=X_char_train, padding='post', value=[char2idx[config.get(\"PAD_CHAR\")]]*config.get(\"MAX_CHAR_LEN\"), truncating='post')\n",
    "    X_train.append(X_char_train)\n",
    "\n",
    "    X_char_test = [[list(map(char2idx.get, (j[:config.get(\"MAX_CHAR_LEN\")] + config.get(\"PAD_CHAR\") * (config.get(\"MAX_CHAR_LEN\") - len(j))))) for j in (i['tokens'] + [config.get(\"PAD_CHAR\")*config.get(\"MAX_CHAR_LEN\")]*(config.get(\"MAX_WORD_LEN\") - len(i['tokens'])))] for i in test_data]\n",
    "    X_char_test = pad_sequences(maxlen=config.get(\"MAX_WORD_LEN\"), sequences=X_char_test, padding='post', value=[char2idx[config.get(\"PAD_CHAR\")]]*config.get(\"MAX_CHAR_LEN\"), truncating='post')\n",
    "    X_test.append(X_char_test)\n",
    "\n",
    "# ------------------------------------------------------------------------------\n",
    "if config.get(\"encodings\"):\n",
    "    X_char_enc_train = [list(map(charenc2idx.get, i['encodings'])) for i in train_data]\n",
    "    X_char_enc_train = pad_sequences(maxlen=config.get(\"MAX_WORD_LEN\"), sequences=X_char_enc_train, padding='post', value=charenc2idx[config.get(\"PAD_CHAR\")], truncating='post')\n",
    "    # X_char_enc_train = np.expand_dims(X_char_enc_train, axis=-1)\n",
    "    X_train.append(X_char_enc_train)\n",
    "\n",
    "    X_char_enc_test = [list(map(charenc2idx.get, i['encodings'])) for i in test_data]\n",
    "    X_char_enc_test = pad_sequences(maxlen=config.get(\"MAX_WORD_LEN\"), sequences=X_char_enc_test, padding='post', value=charenc2idx[config.get(\"PAD_CHAR\")], truncating='post')\n",
    "    # X_char_enc_test = np.expand_dims(X_char_enc_test, axis=-1)\n",
    "    X_test.append(X_char_enc_test)\n",
    "\n",
    "# ------------------------------------------------------------------------------\n",
    "if config.get(\"pos_tags\"):\n",
    "    X_pos_train = [list(map(pos2idx.get, i['pos_tags'])) for i in train_data]\n",
    "    X_pos_train = pad_sequences(maxlen=config.get(\"MAX_WORD_LEN\"), sequences=X_pos_train, padding='post', value=pos2idx[config.get(\"PAD_CHAR\")], truncating='post')\n",
    "    # X_pos_train = np.expand_dims(X_pos_train, axis=-1)\n",
    "    X_train.append(X_pos_train)\n",
    "\n",
    "    X_pos_test = [list(map(pos2idx.get, i['pos_tags'])) for i in test_data]\n",
    "    X_pos_test = pad_sequences(maxlen=config.get(\"MAX_WORD_LEN\"), sequences=X_pos_test, padding='post', value=pos2idx[config.get(\"PAD_CHAR\")], truncating='post')\n",
    "    # X_pos_test = np.expand_dims(X_pos_test, axis=-1)\n",
    "    X_test.append(X_pos_test)\n",
    "# ------------------------------------------------------------------------------\n",
    "if config.get(\"protein_terms\"):\n",
    "    X_protein_train = [i['protein_terms'] for i in train_data]\n",
    "    X_protein_train = pad_sequences(maxlen=config.get(\"MAX_WORD_LEN\"), sequences=X_protein_train, padding='post', value=0, truncating='post')\n",
    "    X_protein_train = np.expand_dims(X_protein_train, axis=-1)\n",
    "    X_train.append(X_protein_train)\n",
    "\n",
    "    X_protein_test = [i['protein_terms'] for i in test_data]\n",
    "    X_protein_test = pad_sequences(maxlen=config.get(\"MAX_WORD_LEN\"), sequences=X_protein_test, padding='post', value=0, truncating='post')\n",
    "    X_protein_test = np.expand_dims(X_protein_test, axis=-1)\n",
    "    X_test.append(X_protein_test)\n",
    "# ------------------------------------------------------------------------------\n",
    "if config.get(\"biomedical_terms\"):\n",
    "    X_bio_train = [i['biomedical_terms'] for i in train_data]\n",
    "    X_bio_train = pad_sequences(maxlen=config.get(\"MAX_WORD_LEN\"), sequences=X_bio_train, padding='post', value=0, truncating='post')\n",
    "    X_bio_train = np.expand_dims(X_bio_train, axis=-1)\n",
    "    X_train.append(X_bio_train)\n",
    "\n",
    "    X_bio_test = [i['biomedical_terms'] for i in test_data]\n",
    "    X_bio_test = pad_sequences(maxlen=config.get(\"MAX_WORD_LEN\"), sequences=X_bio_test, padding='post', value=0, truncating='post')\n",
    "    X_bio_test = np.expand_dims(X_bio_test, axis=-1)\n",
    "    X_test.append(X_bio_test)\n",
    "# ------------------------------------------------------------------------------\n",
    "if config.get(\"chemical_terms\"):\n",
    "    X_chem_train = [i['chemical_terms'] for i in train_data]\n",
    "    X_chem_train = pad_sequences(maxlen=config.get(\"MAX_WORD_LEN\"), sequences=X_chem_train, padding='post', value=0, truncating='post')\n",
    "    X_chem_train = np.expand_dims(X_chem_train, axis=-1)\n",
    "    X_train.append(X_chem_train)\n",
    "\n",
    "    X_chem_test = [i['chemical_terms'] for i in test_data]\n",
    "    X_chem_test = pad_sequences(maxlen=config.get(\"MAX_WORD_LEN\"), sequences=X_chem_test, padding='post', value=0, truncating='post')\n",
    "    X_chem_test = np.expand_dims(X_chem_test, axis=-1)\n",
    "    X_test.append(X_chem_test)\n",
    "# ------------------------------------------------------------------------------\n",
    "if config.get(\"macromolecule_terms\"):\n",
    "    X_macro_train = [i['macromolecule_terms'] for i in train_data]\n",
    "    X_macro_train = pad_sequences(maxlen=config.get(\"MAX_WORD_LEN\"), sequences=X_macro_train, padding='post', value=0, truncating='post')\n",
    "    X_macro_train = np.expand_dims(X_macro_train, axis=-1)\n",
    "    X_train.append(X_macro_train)\n",
    "\n",
    "    X_macro_test = [i['macromolecule_terms'] for i in test_data]\n",
    "    X_macro_test = pad_sequences(maxlen=config.get(\"MAX_WORD_LEN\"), sequences=X_macro_test, padding='post', value=0, truncating='post')\n",
    "    X_macro_test = np.expand_dims(X_macro_test, axis=-1)\n",
    "    X_test.append(X_macro_test)\n",
    "# ------------------------------------------------------------------------------\n",
    "if config.get(\"umls_terms\"):\n",
    "    X_umls_train = [i['umls_terms'] for i in train_data]\n",
    "    X_umls_train = pad_sequences(maxlen=config.get(\"MAX_WORD_LEN\"), sequences=X_umls_train, padding='post', value=0, truncating='post')\n",
    "    X_umls_train = np.expand_dims(X_umls_train, axis=-1)\n",
    "    X_train.append(X_umls_train)\n",
    "\n",
    "    X_umls_test = [i['umls_terms'] for i in test_data]\n",
    "    X_umls_test = pad_sequences(maxlen=config.get(\"MAX_WORD_LEN\"), sequences=X_umls_test, padding='post', value=0, truncating='post')\n",
    "    X_umls_test = np.expand_dims(X_umls_test, axis=-1)\n",
    "    X_test.append(X_umls_test)\n",
    "\n",
    "# ------------------------------------------------------------------------------\n",
    "if config.get(\"iob_tags\"):\n",
    "    Y_train = [list(map(tag2idx.get, i['iob_tags'])) for i in train_data]\n",
    "    Y_train = pad_sequences(maxlen=config.get(\"MAX_WORD_LEN\"), sequences=Y_train, padding='post', value=tag2idx[config.get(\"PAD_CHAR\")], truncating='post')\n",
    "    \n",
    "    Y_test = [list(map(tag2idx.get, i['iob_tags'])) for i in test_data]\n",
    "    Y_test = pad_sequences(maxlen=config.get(\"MAX_WORD_LEN\"), sequences=Y_test, padding='post', value=tag2idx[config.get(\"PAD_CHAR\")], truncating='post')\n",
    "\n",
    "    if config.get(\"ONE_HOT_ENCODING\"):\n",
    "        Y_train = to_categorical(Y_train, num_classes=n_tags)\n",
    "        Y_test = to_categorical(Y_test, num_classes=n_tags)\n",
    "\n",
    "    if Y_train.ndim == 2:\n",
    "        LOSS_FUNCTION = SparseCategoricalCrossentropy()\n",
    "        config.update({\"LOSS_FUNCTION\": \"SparseCategoricalCrossentropy\"})\n",
    "    else:\n",
    "        LOSS_FUNCTION = CategoricalCrossentropy()\n",
    "        config.update({\"LOSS_FUNCTION\": \"CategoricalCrossentropy\"})\n",
    "\n",
    "try:\n",
    "    prep_data = wandb.Artifact(\"train_dataset\", type=\"dataset\",\n",
    "                           description=\"Preprocessed train_dataset ready for model training\",\n",
    "                           metadata={\"source\": \"WANDB_ONER\",\n",
    "                                     \"pipelines\": [k for k, v in config.get(\"INPUT_LAYERS\").items() if v],\n",
    "                                     \"# pipelines\": len(X_train),\n",
    "                                     \"shape\": {\"X_train\": \"(\" + \", \".join(str(i) for i in X_train[0].shape) + \")\", \n",
    "                                               \"Y_train\": \"(\" + \", \".join(str(i) for i in Y_train.shape) + \")\"},\n",
    "                                     \"save_Y\": False if Y_train.ndim == 3 else True})\n",
    "    with prep_data.new_file(\"train.pkl\", \"wb\") as file:\n",
    "        pickle.dump({\"X_train\": X_train, \"Y_train\": Y_train if Y_train.ndim ==2 else np.argmax(Y_train)}, file)\n",
    "    wb_run.log_artifact(prep_data)\n",
    "except Exception as ex:\n",
    "    pass\n",
    "\n",
    "try:\n",
    "    prep_data = wandb.Artifact(\"test_dataset\", type=\"dataset\",\n",
    "                           description=\"Preprocessed test_dataset ready for model testing\",\n",
    "                           metadata={\"source\": \"WANDB_ONER\",\n",
    "                                     \"pipelines\": [k for k, v in config.get(\"INPUT_LAYERS\").items() if v],\n",
    "                                     \"# pipelines\": len(X_test),\n",
    "                                     \"shape\": {\"X_test\": \"(\" + \", \".join(str(i) for i in X_test[0].shape) + \")\", \n",
    "                                               \"Y_test\": \"(\" + \", \".join(str(i) for i in Y_test.shape) + \")\"},\n",
    "                                     \"save_Y\": False if Y_train.ndim == 3 else True})\n",
    "\n",
    "\n",
    "    with prep_data.new_file(\"test.pkl\", \"wb\") as file:\n",
    "        pickle.dump({\"X_test\": X_test, \"Y_test\": Y_test if Y_test.ndim ==2 else np.argmax(Y_test)}, file)\n",
    "    wb_run.log_artifact(prep_data)\n",
    "except Exception as ex:\n",
    "    pass"
   ]
  },
  {
   "cell_type": "code",
   "execution_count": null,
   "metadata": {
    "colab": {
     "base_uri": "https://localhost:8080/"
    },
    "id": "tJSgIS63b6pC",
    "outputId": "59dd45c4-61e2-48e5-b9b6-7c9d72b0c36c"
   },
   "outputs": [
    {
     "data": {
      "text/plain": [
       "((23104, 71), (5760, 71), (23104, 71, 1774), (5760, 71, 1774))"
      ]
     },
     "execution_count": 13,
     "metadata": {},
     "output_type": "execute_result"
    }
   ],
   "source": [
    "X_train[0].shape, X_test[0].shape, Y_train.shape, Y_test.shape"
   ]
  },
  {
   "cell_type": "code",
   "execution_count": null,
   "metadata": {
    "id": "ilrw6e4DYwIv"
   },
   "outputs": [],
   "source": [
    "if config.get(\"EMBEDDING\") == \"GLOVE\":\n",
    "    word2vec = KeyedVectors.load_word2vec_format(GLOVE_EMB_FILE, binary=True)\n",
    "    w2v_vocab, w2v_vector = word2vec.vocab, word2vec.vectors\n",
    "    embeddings_index = dict((vocab, vector) for vocab, vector in zip(w2v_vocab, w2v_vector))\n",
    "    emb_matrix = np.zeros((n_words, config.get(\"EMBEDDING_DIM\")))\n",
    "    hits, misses = 0, 0\n",
    "    for word, index in word2idx.items():\n",
    "        vec = embeddings_index.get(word)\n",
    "        if vec is not None:\n",
    "            emb_matrix[index] = vec\n",
    "            hits += 1\n",
    "        else:\n",
    "            misses += 1\n",
    "    print(\"Total hit: {0}\\nTotal miss: {1}\".format(hits, misses))\n",
    "    config.update({\"EMBEDDING_DIM\": w2v_vector[0].size})\n",
    "elif config.get(\"EMBEDDING\") == \"ELMO\":\n",
    "    def ElmoEmbedding(x):\n",
    "        return elmo_model(inputs={\n",
    "                                \"tokens\": tf.squeeze(tf.cast(x, tf.string)),\n",
    "                                \"sequence_len\": tf.cast(tf.count_nonzero(x, axis=1), dtype=tf.int32) #tf.constant(BATCH_SIZE*[MAX_WORD_LEN])\n",
    "                          },\n",
    "                          signature=\"tokens\",\n",
    "                          as_dict=True)[\"elmo\"]\n",
    "    \n",
    "\n",
    "    sess = tf.Session()\n",
    "    set_session(sess)\n",
    "    elmo_model = hub.Module(\"https://tfhub.dev/google/elmo/3\", trainable=True)\n",
    "    sess.run(tf.global_variables_initializer())\n",
    "    sess.run(tf.tables_initializer())"
   ]
  },
  {
   "cell_type": "code",
   "execution_count": null,
   "metadata": {
    "colab": {
     "base_uri": "https://localhost:8080/"
    },
    "id": "ugsE_dTuZkmQ",
    "outputId": "b29ca5a5-a934-4363-cb11-ab65c4785fa9"
   },
   "outputs": [
    {
     "name": "stdout",
     "output_type": "stream",
     "text": [
      "INFO:tensorflow:Saver not created because there are no variables in the graph to restore\n"
     ]
    },
    {
     "name": "stderr",
     "output_type": "stream",
     "text": [
      "INFO:tensorflow:Saver not created because there are no variables in the graph to restore\n"
     ]
    },
    {
     "name": "stdout",
     "output_type": "stream",
     "text": [
      "WARNING:tensorflow:From /usr/local/lib/python3.7/dist-packages/keras/initializers/initializers_v1.py:278: calling RandomUniform.__init__ (from tensorflow.python.ops.init_ops) with dtype is deprecated and will be removed in a future version.\n",
      "Instructions for updating:\n",
      "Call initializer instance with the dtype argument instead of passing it to the constructor\n"
     ]
    },
    {
     "name": "stderr",
     "output_type": "stream",
     "text": [
      "WARNING:tensorflow:From /usr/local/lib/python3.7/dist-packages/keras/initializers/initializers_v1.py:278: calling RandomUniform.__init__ (from tensorflow.python.ops.init_ops) with dtype is deprecated and will be removed in a future version.\n",
      "Instructions for updating:\n",
      "Call initializer instance with the dtype argument instead of passing it to the constructor\n"
     ]
    },
    {
     "name": "stdout",
     "output_type": "stream",
     "text": [
      "WARNING:tensorflow:Layer gru will not use cuDNN kernels since it doesn't meet the criteria. It will use a generic GPU kernel as fallback when running on GPU.\n"
     ]
    },
    {
     "name": "stderr",
     "output_type": "stream",
     "text": [
      "WARNING:tensorflow:Layer gru will not use cuDNN kernels since it doesn't meet the criteria. It will use a generic GPU kernel as fallback when running on GPU.\n"
     ]
    },
    {
     "name": "stdout",
     "output_type": "stream",
     "text": [
      "WARNING:tensorflow:Layer gru_1 will not use cuDNN kernels since it doesn't meet the criteria. It will use a generic GPU kernel as fallback when running on GPU.\n"
     ]
    },
    {
     "name": "stderr",
     "output_type": "stream",
     "text": [
      "WARNING:tensorflow:Layer gru_1 will not use cuDNN kernels since it doesn't meet the criteria. It will use a generic GPU kernel as fallback when running on GPU.\n"
     ]
    },
    {
     "name": "stdout",
     "output_type": "stream",
     "text": [
      "WARNING:tensorflow:From /usr/local/lib/python3.7/dist-packages/tensorflow/python/ops/init_ops.py:97: calling GlorotUniform.__init__ (from tensorflow.python.ops.init_ops) with dtype is deprecated and will be removed in a future version.\n",
      "Instructions for updating:\n",
      "Call initializer instance with the dtype argument instead of passing it to the constructor\n"
     ]
    },
    {
     "name": "stderr",
     "output_type": "stream",
     "text": [
      "WARNING:tensorflow:From /usr/local/lib/python3.7/dist-packages/tensorflow/python/ops/init_ops.py:97: calling GlorotUniform.__init__ (from tensorflow.python.ops.init_ops) with dtype is deprecated and will be removed in a future version.\n",
      "Instructions for updating:\n",
      "Call initializer instance with the dtype argument instead of passing it to the constructor\n"
     ]
    },
    {
     "name": "stdout",
     "output_type": "stream",
     "text": [
      "WARNING:tensorflow:From /usr/local/lib/python3.7/dist-packages/tensorflow/python/ops/init_ops.py:97: calling Orthogonal.__init__ (from tensorflow.python.ops.init_ops) with dtype is deprecated and will be removed in a future version.\n",
      "Instructions for updating:\n",
      "Call initializer instance with the dtype argument instead of passing it to the constructor\n"
     ]
    },
    {
     "name": "stderr",
     "output_type": "stream",
     "text": [
      "WARNING:tensorflow:From /usr/local/lib/python3.7/dist-packages/tensorflow/python/ops/init_ops.py:97: calling Orthogonal.__init__ (from tensorflow.python.ops.init_ops) with dtype is deprecated and will be removed in a future version.\n",
      "Instructions for updating:\n",
      "Call initializer instance with the dtype argument instead of passing it to the constructor\n"
     ]
    },
    {
     "name": "stdout",
     "output_type": "stream",
     "text": [
      "WARNING:tensorflow:From /usr/local/lib/python3.7/dist-packages/tensorflow/python/ops/init_ops.py:97: calling Zeros.__init__ (from tensorflow.python.ops.init_ops) with dtype is deprecated and will be removed in a future version.\n",
      "Instructions for updating:\n",
      "Call initializer instance with the dtype argument instead of passing it to the constructor\n"
     ]
    },
    {
     "name": "stderr",
     "output_type": "stream",
     "text": [
      "WARNING:tensorflow:From /usr/local/lib/python3.7/dist-packages/tensorflow/python/ops/init_ops.py:97: calling Zeros.__init__ (from tensorflow.python.ops.init_ops) with dtype is deprecated and will be removed in a future version.\n",
      "Instructions for updating:\n",
      "Call initializer instance with the dtype argument instead of passing it to the constructor\n"
     ]
    },
    {
     "name": "stdout",
     "output_type": "stream",
     "text": [
      "WARNING:tensorflow:Layer gru_1 will not use cuDNN kernels since it doesn't meet the criteria. It will use a generic GPU kernel as fallback when running on GPU.\n"
     ]
    },
    {
     "name": "stderr",
     "output_type": "stream",
     "text": [
      "WARNING:tensorflow:Layer gru_1 will not use cuDNN kernels since it doesn't meet the criteria. It will use a generic GPU kernel as fallback when running on GPU.\n"
     ]
    },
    {
     "name": "stdout",
     "output_type": "stream",
     "text": [
      "WARNING:tensorflow:Layer gru_1 will not use cuDNN kernels since it doesn't meet the criteria. It will use a generic GPU kernel as fallback when running on GPU.\n"
     ]
    },
    {
     "name": "stderr",
     "output_type": "stream",
     "text": [
      "WARNING:tensorflow:Layer gru_1 will not use cuDNN kernels since it doesn't meet the criteria. It will use a generic GPU kernel as fallback when running on GPU.\n"
     ]
    }
   ],
   "source": [
    "concat_inputs, inputs = [], []\n",
    "\n",
    "# ------------------------------------------------------------------------------\n",
    "if config.get(\"tokens\"):\n",
    "    tokens_input = Input(shape=config.get(\"MAX_WORD_LEN\"), name=\"TOKENS_INPUT\", batch_size=config.get(\"BATCH_SIZE\", 16))\n",
    "    if config.get(\"EMBEDDING\") == \"GLOVE\":\n",
    "        tokens_emb = Embedding(input_dim=n_words, output_dim=config.get(\"EMBEDDING_DIM\"), embeddings_initializer=tf.keras.initializers.Constant(emb_matrix),\n",
    "                              input_length=config.get(\"MAX_WORD_LEN\"), trainable=True, name=\"GLOVE_EMBEDDING\")(tokens_input)\n",
    "    elif config.get(\"EMBEDDING\") == \"ELMO\":\n",
    "        tokens_input = Input(shape=config.get(\"MAX_WORD_LEN\"), name=\"TOKENS_INPUT\", dtype=tf.string, batch_size=config.get(\"BATCH_SIZE\", 16))\n",
    "        tokens_emb = Lambda(ElmoEmbedding, name=\"ELMO_EMBEDDING\")(tokens_input)\n",
    "    else:\n",
    "        tokens_emb = Embedding(input_dim=n_words, output_dim=100, input_length=config.get(\"MAX_WORD_LEN\"), mask_zero=True, \n",
    "                               name=\"CRAFT_EMBEDDING\")(tokens_input)\n",
    "    concat_inputs.append(tokens_emb)\n",
    "    inputs.append(tokens_input)\n",
    "\n",
    "# ------------------------------------------------------------------------------\n",
    "if config.get(\"characters\"):\n",
    "    char_input = Input(shape=(config.get(\"MAX_WORD_LEN\"), config.get(\"MAX_CHAR_LEN\"),), name=\"CHARACTER_INPUT\", batch_size=config.get(\"BATCH_SIZE\", 16))\n",
    "    char_emb = TimeDistributed(Embedding(input_dim=n_chars, output_dim=100, input_length=config.get(\"MAX_CHAR_LEN\"), mask_zero=True))(char_input)\n",
    "    if config.get(\"RECURRENT_DROPOUT\", None):\n",
    "        char_emb = TimeDistributed(GRU(units=150, return_sequences=False, recurrent_dropout=0.6))(char_emb)\n",
    "    else:\n",
    "        char_emb = TimeDistributed(GRU(units=150, return_sequences=False, dropout=0.6))(char_emb)\n",
    "    concat_inputs.append(char_emb)\n",
    "    inputs.append(char_input)\n",
    "\n",
    "# ------------------------------------------------------------------------------\n",
    "if config.get(\"encodings\"):\n",
    "    char_enc_input = Input(shape=config.get(\"MAX_WORD_LEN\"), name=\"ENCODINGS_INPUT\", batch_size=config.get(\"BATCH_SIZE\", 16))\n",
    "    charenc_emb = Embedding(input_dim=n_char_encs, output_dim=100, input_length=config.get(\"MAX_WORD_LEN\"), mask_zero=True, name=\"CHARENC_EMBEDDING_LAYER\")(char_enc_input)\n",
    "    concat_inputs.append(charenc_emb)\n",
    "    inputs.append(char_enc_input)\n",
    "\n",
    "# ------------------------------------------------------------------------------\n",
    "if config.get(\"pos_tags\"):\n",
    "    pos_input = Input(shape=config.get(\"MAX_WORD_LEN\"), name=\"POS_INPUT\", batch_size=config.get(\"BATCH_SIZE\", 16))\n",
    "    pos_emb = Embedding(input_dim=n_pos, output_dim=100, input_length=config.get(\"MAX_WORD_LEN\"), mask_zero=True, name=\"POS_EMBEDDING_LAYER\")(pos_input)\n",
    "    concat_inputs.append(pos_emb)\n",
    "    inputs.append(pos_input)\n",
    "\n",
    "# ------------------------------------------------------------------------------\n",
    "if config.get(\"protein_terms\"):\n",
    "    protein_input = Input(shape=(config.get(\"MAX_WORD_LEN\"), 1, ), name='PROTEIN_INPUT', batch_size=config.get(\"BATCH_SIZE\", 16))\n",
    "    concat_inputs.append(protein_input)\n",
    "    inputs.append(protein_input)\n",
    "\n",
    "if config.get(\"biomedical_terms\"):\n",
    "    biomedical_input = Input(shape=(config.get(\"MAX_WORD_LEN\"), 1, ), name='BIOMEDICAL_INPUT', batch_size=config.get(\"BATCH_SIZE\", 16))\n",
    "    concat_inputs.append(biomedical_input)\n",
    "    inputs.append(biomedical_input)\n",
    "\n",
    "if config.get(\"chemical_terms\"):\n",
    "    chemical_input = Input(shape=(config.get(\"MAX_WORD_LEN\"), 1, ), name='CHEMICAL_INPUT', batch_size=config.get(\"BATCH_SIZE\", 16))\n",
    "    concat_inputs.append(chemical_input)\n",
    "    inputs.append(chemical_input)\n",
    "    \n",
    "if config.get(\"macromolecule_terms\"):\n",
    "    macromolecule_input = Input(shape=(config.get(\"MAX_WORD_LEN\"), 1, ), name='MACROMOLECULE_INPUT', batch_size=config.get(\"BATCH_SIZE\", 16))\n",
    "    concat_inputs.append(macromolecule_input)\n",
    "    inputs.append(macromolecule_input)\n",
    "\n",
    "# ------------------------------------------------------------------------------\n",
    "if config.get(\"umls_terms\"):\n",
    "    umls_input = Input(shape=(config.get(\"MAX_WORD_LEN\"), 1, ), name='UMLS_INPUT', batch_size=config.get(\"BATCH_SIZE\", 16))\n",
    "    concat_inputs.append(umls_input)\n",
    "    inputs.append(umls_input)\n",
    "\n",
    "combined_input = Concatenate(name=\"CONCATENATE\")(concat_inputs)\n",
    "dropout = SpatialDropout1D(0.3, name=\"SPATIAL_DROPOUT\")(combined_input)\n",
    "if config.get(\"RECURRENT_DROPOUT\"):\n",
    "    bi_gru = Bidirectional(GRU(units=150, return_sequences=True, recurrent_dropout=config.get(\"DROPOUT\", 0)), name=\"BIDIRECTIONAL_GRU\")(dropout)\n",
    "else:\n",
    "    bi_gru = Bidirectional(GRU(units=150, return_sequences=True, dropout=config.get(\"DROPOUT\", 0)), name=\"BIDIRECTIONAL_GRU\")(dropout)\n",
    "output = TimeDistributed(Dense(n_tags, activation='sigmoid'), name=\"TIME_DISTRIBUTED_LAYER\")(bi_gru)"
   ]
  },
  {
   "cell_type": "code",
   "execution_count": null,
   "metadata": {
    "colab": {
     "base_uri": "https://localhost:8080/",
     "height": 1000
    },
    "id": "LB74NLdNdXmy",
    "outputId": "eb226bab-2dbc-42a5-f8e7-e4e717cc4df9"
   },
   "outputs": [
    {
     "name": "stdout",
     "output_type": "stream",
     "text": [
      "Model: \"ONER_FINAL_ELMO_6\"\n",
      "__________________________________________________________________________________________________\n",
      " Layer (type)                   Output Shape         Param #     Connected to                     \n",
      "==================================================================================================\n",
      " CHARACTER_INPUT (InputLayer)   [(16, 71, 15)]       0           []                               \n",
      "                                                                                                  \n",
      " TOKENS_INPUT (InputLayer)      [(16, 71)]           0           []                               \n",
      "                                                                                                  \n",
      " time_distributed (TimeDistribu  (16, 71, 15, 100)   15700       ['CHARACTER_INPUT[0][0]']        \n",
      " ted)                                                                                             \n",
      "                                                                                                  \n",
      " ENCODINGS_INPUT (InputLayer)   [(16, 71)]           0           []                               \n",
      "                                                                                                  \n",
      " POS_INPUT (InputLayer)         [(16, 71)]           0           []                               \n",
      "                                                                                                  \n",
      " ELMO_EMBEDDING (Lambda)        (16, 71, 1024)       0           ['TOKENS_INPUT[0][0]']           \n",
      "                                                                                                  \n",
      " time_distributed_1 (TimeDistri  (16, 71, 150)       113400      ['time_distributed[0][0]']       \n",
      " buted)                                                                                           \n",
      "                                                                                                  \n",
      " CHARENC_EMBEDDING_LAYER (Embed  (16, 71, 100)       135800      ['ENCODINGS_INPUT[0][0]']        \n",
      " ding)                                                                                            \n",
      "                                                                                                  \n",
      " POS_EMBEDDING_LAYER (Embedding  (16, 71, 100)       4800        ['POS_INPUT[0][0]']              \n",
      " )                                                                                                \n",
      "                                                                                                  \n",
      " PROTEIN_INPUT (InputLayer)     [(16, 71, 1)]        0           []                               \n",
      "                                                                                                  \n",
      " BIOMEDICAL_INPUT (InputLayer)  [(16, 71, 1)]        0           []                               \n",
      "                                                                                                  \n",
      " CONCATENATE (Concatenate)      (16, 71, 1376)       0           ['ELMO_EMBEDDING[0][0]',         \n",
      "                                                                  'time_distributed_1[0][0]',     \n",
      "                                                                  'CHARENC_EMBEDDING_LAYER[0][0]',\n",
      "                                                                  'POS_EMBEDDING_LAYER[0][0]',    \n",
      "                                                                  'PROTEIN_INPUT[0][0]',          \n",
      "                                                                  'BIOMEDICAL_INPUT[0][0]']       \n",
      "                                                                                                  \n",
      " SPATIAL_DROPOUT (SpatialDropou  (16, 71, 1376)      0           ['CONCATENATE[0][0]']            \n",
      " t1D)                                                                                             \n",
      "                                                                                                  \n",
      " BIDIRECTIONAL_GRU (Bidirection  (16, 71, 300)       1375200     ['SPATIAL_DROPOUT[0][0]']        \n",
      " al)                                                                                              \n",
      "                                                                                                  \n",
      " TIME_DISTRIBUTED_LAYER (TimeDi  (16, 71, 1774)      533974      ['BIDIRECTIONAL_GRU[0][0]']      \n",
      " stributed)                                                                                       \n",
      "                                                                                                  \n",
      "==================================================================================================\n",
      "Total params: 2,178,874\n",
      "Trainable params: 2,178,874\n",
      "Non-trainable params: 0\n",
      "__________________________________________________________________________________________________\n",
      "None\n"
     ]
    },
    {
     "data": {
      "image/png": "[encoded data removed]",
      "text/plain": [
       "<IPython.core.display.Image object>"
      ]
     },
     "metadata": {},
     "output_type": "display_data"
    }
   ],
   "source": [
    "model = Model(inputs, output, name=config.get(\"PROJECT_NAME\") + \"_\" + config.get(\"RUN\"))\n",
    "model.compile(optimizer=OPTIMIZER, loss=globals()[config.get(\"LOSS_FUNCTION\")](), metrics=['accuracy'])\n",
    "print(model.summary())\n",
    "model_arch = tf.keras.utils.plot_model(model, show_shapes=True)\n",
    "display(model_arch)"
   ]
  },
  {
   "cell_type": "code",
   "execution_count": null,
   "metadata": {
    "id": "af3pHE8odzlA"
   },
   "outputs": [],
   "source": [
    "if config.get(\"OPTIMIZED_CLASS_WEIGHT\"):\n",
    "    tags = list(j for i in train_data+test_data for j in i['iob_tags']) + [config.get(\"PAD_CHAR\")]\n",
    "    unique_tags = set(tags)\n",
    "    total_count = {}\n",
    "    for i in unique_tags:\n",
    "        total_count.update({i: tags.count(i)})\n",
    "\n",
    "    total = len(tags)\n",
    "    class_weights = {}\n",
    "    for k, v in total_count.items():\n",
    "        class_weights.update({tag2idx[k]: np.log((1 / v) * (total / 2.0))})\n",
    "else:\n",
    "    class_weights = None\n",
    "\n",
    "if config.get(\"REDUCE_LR_ON_PLATEAU\"):\n",
    "    reduce_lr = ReduceLROnPlateau(\n",
    "        monitor='val_loss',\n",
    "        factor=0.1,\n",
    "        patience=4,\n",
    "        verbose=1,\n",
    "        min_lr=0.000001,\n",
    "        mode='auto',\n",
    "        cooldown=0,\n",
    "        min_delta=0.0001\n",
    "    )\n",
    "    CALLBACKS = [reduce_lr]\n",
    "else:\n",
    "    CALLBACKS = []\n",
    "\n",
    "if config.get(\"EARLY_STOPPING\"):\n",
    "    CALLBACKS += [EarlyStopping(\n",
    "        monitor='val_loss',\n",
    "        min_delta=0.0001,\n",
    "        patience=10,\n",
    "        verbose=1,\n",
    "        mode='min',\n",
    "        baseline=None,\n",
    "        restore_best_weights=False\n",
    "    )]\n",
    "if config.get(\"WANDB\", None):\n",
    "    CALLBACKS += [WandbCallback()]"
   ]
  },
  {
   "cell_type": "code",
   "execution_count": null,
   "metadata": {
    "colab": {
     "base_uri": "https://localhost:8080/"
    },
    "id": "njBvDAPAew1_",
    "outputId": "0e4c4f02-fe81-4eb1-af9f-f8a392f0a26e"
   },
   "outputs": [
    {
     "name": "stdout",
     "output_type": "stream",
     "text": [
      "Train on 23104 samples, validate on 5760 samples\n",
      "Epoch 1/300\n",
      "23104/23104 [==============================] - ETA: 0s - loss: 0.1624 - acc: 0.9422"
     ]
    },
    {
     "name": "stderr",
     "output_type": "stream",
     "text": [
      "/usr/local/lib/python3.7/dist-packages/keras/engine/training_v1.py:2057: UserWarning: `Model.state_updates` will be removed in a future version. This property should not be used in TensorFlow 2.0, as `updates` are applied automatically.\n",
      "  updates = self.state_updates\n"
     ]
    },
    {
     "name": "stdout",
     "output_type": "stream",
     "text": [
      "23104/23104 [==============================] - 407s 18ms/sample - loss: 0.1624 - acc: 0.9422 - val_loss: 0.0944 - val_acc: 0.9704 - lr: 0.0010\n",
      "Epoch 2/300\n",
      "23104/23104 [==============================] - 397s 17ms/sample - loss: 0.0773 - acc: 0.9733 - val_loss: 0.0555 - val_acc: 0.9795 - lr: 0.0010\n",
      "Epoch 3/300\n",
      "23104/23104 [==============================] - 397s 17ms/sample - loss: 0.0453 - acc: 0.9812 - val_loss: 0.0379 - val_acc: 0.9856 - lr: 0.0010\n",
      "Epoch 4/300\n",
      "23104/23104 [==============================] - 401s 17ms/sample - loss: 0.0293 - acc: 0.9857 - val_loss: 0.0297 - val_acc: 0.9880 - lr: 0.0010\n",
      "Epoch 5/300\n",
      "23104/23104 [==============================] - 409s 18ms/sample - loss: 0.0199 - acc: 0.9888 - val_loss: 0.0261 - val_acc: 0.9896 - lr: 0.0010\n",
      "Epoch 6/300\n",
      "23104/23104 [==============================] - 399s 17ms/sample - loss: 0.0139 - acc: 0.9912 - val_loss: 0.0239 - val_acc: 0.9907 - lr: 0.0010\n",
      "Epoch 7/300\n",
      "23104/23104 [==============================] - 405s 18ms/sample - loss: 0.0095 - acc: 0.9934 - val_loss: 0.0226 - val_acc: 0.9914 - lr: 0.0010\n",
      "Epoch 8/300\n",
      "23104/23104 [==============================] - 402s 17ms/sample - loss: 0.0068 - acc: 0.9950 - val_loss: 0.0217 - val_acc: 0.9919 - lr: 0.0010\n",
      "Epoch 9/300\n",
      "23104/23104 [==============================] - 406s 18ms/sample - loss: 0.0052 - acc: 0.9961 - val_loss: 0.0220 - val_acc: 0.9920 - lr: 0.0010\n",
      "Epoch 10/300\n",
      "23104/23104 [==============================] - 403s 17ms/sample - loss: 0.0040 - acc: 0.9970 - val_loss: 0.0211 - val_acc: 0.9928 - lr: 0.0010\n",
      "Epoch 11/300\n",
      "23104/23104 [==============================] - 408s 18ms/sample - loss: 0.0033 - acc: 0.9975 - val_loss: 0.0212 - val_acc: 0.9926 - lr: 0.0010\n",
      "Epoch 12/300\n",
      "23104/23104 [==============================] - 402s 17ms/sample - loss: 0.0028 - acc: 0.9979 - val_loss: 0.0206 - val_acc: 0.9930 - lr: 0.0010\n",
      "Epoch 13/300\n",
      "23104/23104 [==============================] - 391s 17ms/sample - loss: 0.0024 - acc: 0.9981 - val_loss: 0.0208 - val_acc: 0.9929 - lr: 0.0010\n",
      "Epoch 14/300\n",
      "23104/23104 [==============================] - 391s 17ms/sample - loss: 0.0021 - acc: 0.9984 - val_loss: 0.0204 - val_acc: 0.9931 - lr: 0.0010\n",
      "Epoch 15/300\n",
      "23104/23104 [==============================] - 388s 17ms/sample - loss: 0.0019 - acc: 0.9986 - val_loss: 0.0206 - val_acc: 0.9930 - lr: 0.0010\n",
      "Epoch 16/300\n",
      "23104/23104 [==============================] - 394s 17ms/sample - loss: 0.0017 - acc: 0.9988 - val_loss: 0.0207 - val_acc: 0.9933 - lr: 0.0010\n",
      "Epoch 17/300\n",
      "23104/23104 [==============================] - 398s 17ms/sample - loss: 0.0016 - acc: 0.9988 - val_loss: 0.0211 - val_acc: 0.9931 - lr: 0.0010\n",
      "Epoch 18/300\n",
      "23104/23104 [==============================] - ETA: 0s - loss: 0.0013 - acc: 0.9991\n",
      "Epoch 00018: ReduceLROnPlateau reducing learning rate to 0.00010000000474974513.\n",
      "23104/23104 [==============================] - 396s 17ms/sample - loss: 0.0013 - acc: 0.9991 - val_loss: 0.0206 - val_acc: 0.9932 - lr: 0.0010\n",
      "Epoch 19/300\n",
      "23104/23104 [==============================] - 394s 17ms/sample - loss: 9.4848e-04 - acc: 0.9994 - val_loss: 0.0201 - val_acc: 0.9939 - lr: 1.0000e-04\n",
      "Epoch 20/300\n",
      "23104/23104 [==============================] - 392s 17ms/sample - loss: 5.9819e-04 - acc: 0.9997 - val_loss: 0.0200 - val_acc: 0.9939 - lr: 1.0000e-04\n",
      "Epoch 21/300\n",
      "23104/23104 [==============================] - 393s 17ms/sample - loss: 5.1079e-04 - acc: 0.9997 - val_loss: 0.0199 - val_acc: 0.9939 - lr: 1.0000e-04\n",
      "Epoch 22/300\n",
      "23104/23104 [==============================] - 391s 17ms/sample - loss: 4.4851e-04 - acc: 0.9998 - val_loss: 0.0199 - val_acc: 0.9940 - lr: 1.0000e-04\n",
      "Epoch 23/300\n",
      "23104/23104 [==============================] - 387s 17ms/sample - loss: 3.8205e-04 - acc: 0.9998 - val_loss: 0.0198 - val_acc: 0.9939 - lr: 1.0000e-04\n",
      "Epoch 24/300\n",
      "23104/23104 [==============================] - 392s 17ms/sample - loss: 3.7241e-04 - acc: 0.9998 - val_loss: 0.0199 - val_acc: 0.9940 - lr: 1.0000e-04\n",
      "Epoch 25/300\n",
      "23104/23104 [==============================] - ETA: 0s - loss: 3.5195e-04 - acc: 0.9999\n",
      "Epoch 00025: ReduceLROnPlateau reducing learning rate to 1.0000000474974514e-05.\n",
      "23104/23104 [==============================] - 391s 17ms/sample - loss: 3.5195e-04 - acc: 0.9999 - val_loss: 0.0200 - val_acc: 0.9939 - lr: 1.0000e-04\n",
      "Epoch 26/300\n",
      "23104/23104 [==============================] - 394s 17ms/sample - loss: 3.1425e-04 - acc: 0.9999 - val_loss: 0.0200 - val_acc: 0.9940 - lr: 1.0000e-05\n",
      "Epoch 27/300\n",
      "23104/23104 [==============================] - 396s 17ms/sample - loss: 3.1854e-04 - acc: 0.9999 - val_loss: 0.0199 - val_acc: 0.9940 - lr: 1.0000e-05\n",
      "Epoch 28/300\n",
      "23104/23104 [==============================] - 395s 17ms/sample - loss: 3.0244e-04 - acc: 0.9999 - val_loss: 0.0199 - val_acc: 0.9939 - lr: 1.0000e-05\n",
      "Epoch 29/300\n",
      "23104/23104 [==============================] - ETA: 0s - loss: 3.0728e-04 - acc: 0.9999\n",
      "Epoch 00029: ReduceLROnPlateau reducing learning rate to 1.0000000656873453e-06.\n",
      "23104/23104 [==============================] - 399s 17ms/sample - loss: 3.0728e-04 - acc: 0.9999 - val_loss: 0.0199 - val_acc: 0.9940 - lr: 1.0000e-05\n",
      "Epoch 30/300\n",
      "23104/23104 [==============================] - 402s 17ms/sample - loss: 2.9894e-04 - acc: 0.9999 - val_loss: 0.0199 - val_acc: 0.9940 - lr: 1.0000e-06\n",
      "Epoch 31/300\n",
      "23104/23104 [==============================] - 395s 17ms/sample - loss: 2.8541e-04 - acc: 0.9999 - val_loss: 0.0199 - val_acc: 0.9940 - lr: 1.0000e-06\n",
      "Epoch 00031: early stopping\n"
     ]
    }
   ],
   "source": [
    "history = model.fit(\n",
    "    X_train, Y_train, \n",
    "    batch_size=config.get(\"BATCH_SIZE\"),\n",
    "    epochs=config.get(\"EPOCHS\"),\n",
    "    validation_data=(X_test, Y_test),\n",
    "    class_weight = class_weights,\n",
    "    verbose=1,\n",
    "    callbacks=CALLBACKS,\n",
    ")"
   ]
  },
  {
   "cell_type": "code",
   "execution_count": null,
   "metadata": {
    "colab": {
     "base_uri": "https://localhost:8080/"
    },
    "id": "y_T9_u2tiITn",
    "outputId": "900abde3-db08-4cee-a179-1c0ff483b913"
   },
   "outputs": [
    {
     "name": "stderr",
     "output_type": "stream",
     "text": [
      "/usr/local/lib/python3.7/dist-packages/keras/engine/training_v1.py:2079: UserWarning: `Model.state_updates` will be removed in a future version. This property should not be used in TensorFlow 2.0, as `updates` are applied automatically.\n",
      "  updates=self.state_updates,\n"
     ]
    }
   ],
   "source": [
    "predicted = model.predict(X_test)\n",
    "predicted = np.argsort(predicted*-1, axis=-1)[:,:,:5]"
   ]
  },
  {
   "cell_type": "code",
   "execution_count": null,
   "metadata": {
    "colab": {
     "base_uri": "https://localhost:8080/"
    },
    "id": "6IYAMu7fezSE",
    "outputId": "ecb8f7c8-bc3e-448e-c0ab-f8091adc2254"
   },
   "outputs": [
    {
     "name": "stdout",
     "output_type": "stream",
     "text": [
      "top_1 : {'precision': '0.85', 'recall': '0.83', 'f1-score': '0.83', 'support': '5219'}\n",
      "top_2 : {'precision': '0.90', 'recall': '0.90', 'f1-score': '0.89', 'support': '5136'}\n",
      "top_3 : {'precision': '0.91', 'recall': '0.90', 'f1-score': '0.90', 'support': '5135'}\n",
      "top_5 : {'precision': '0.92', 'recall': '0.91', 'f1-score': '0.91', 'support': '5134'}\n"
     ]
    }
   ],
   "source": [
    "top_n_scores = [1, 2, 3, 5]\n",
    "report_summary = {}\n",
    "\n",
    "for top_n in top_n_scores:\n",
    "    ground_truth, prediction, prediction_n, word = [], [], [], []\n",
    "    for i in range(len(predicted)):\n",
    "        word.append(X_test[0][i])\n",
    "        if Y_train.ndim == 2:\n",
    "            true_vec = Y_test[i]\n",
    "        else:\n",
    "            true_vec = np.argmax(Y_test[i], axis=-1)\n",
    "        ground_truth.append(true_vec)\n",
    "        pred_vec = predicted[i][:,:top_n]\n",
    "        temp = []\n",
    "        for x, y in zip(true_vec, pred_vec):\n",
    "            if x in y:\n",
    "                temp.append(x)\n",
    "            else:\n",
    "                temp.append(y[0])\n",
    "        prediction.append(np.array(temp, dtype='int32'))\n",
    "        prediction_n.append(pred_vec.tolist())\n",
    "    t = [list(map(idx2tag.get, i)) for i in ground_truth]\n",
    "    sent_len = [i.index(\"EOS\")+1 if \"EOS\" in i else config.get(\"MAX_WORD_LEN\") + 1 for i in t]\n",
    "    t = [i[:sent_len[idx]] for idx, i in enumerate(t)]\n",
    "    wd = [i[:sent_len[idx]] for idx, i in enumerate(word)]\n",
    "    p = [list(map(idx2tag.get, i[:sent_len[idx]])) for idx, i in enumerate(prediction)]\n",
    "    p_n = [[list(map(idx2tag.get, j)) for j in i[:sent_len[idx]]] for idx, i in enumerate(prediction_n)]\n",
    "    report = classification_report(list(chain.from_iterable(t)), list(chain.from_iterable(p)), zero_division=False)\n",
    "    pd_data = pd.DataFrame(\n",
    "        {\n",
    "            'Ground_Truth': list(chain.from_iterable(t)),\n",
    "            'Prediction': list(chain.from_iterable(p)),\n",
    "            'Prediction_n': list(chain.from_iterable(p_n)),\n",
    "            'Word': list(chain.from_iterable(wd)),\n",
    "        }\n",
    "    )\n",
    "\n",
    "    df1 = pd_data[(pd_data['Word'] != config.get(\"PAD_CHAR\")) & (pd_data['Ground_Truth'] != \"EOS\")].copy()\n",
    "    df1 = df1[(df1['Prediction'] != 'O') & (df1['Ground_Truth'] != 'O') | \n",
    "            (df1['Prediction'] == 'O') & (df1['Ground_Truth'] != 'O') |\n",
    "            (df1['Prediction'] != 'O') & (df1['Ground_Truth'] == 'O')\n",
    "            ]\n",
    "    df2 = df1.copy()\n",
    "    df2['GO_Prediction'] = df2['Prediction'].apply(lambda x: x[2:] if \"GO:\" in x else x)\n",
    "    df2['GO_Ground_Truth'] = df2['Ground_Truth'].apply(lambda x: x[2:] if \"GO:\" in x else x)\n",
    "    report = classification_report(df2['GO_Ground_Truth'], df2['GO_Prediction'], zero_division=False)\n",
    "        \n",
    "    report_summary.update({\"top_{0}\".format(top_n): dict((k, v) for k, v in \n",
    "                                                         zip(report.split(\"\\n\")[0].split(), report.split(\"\\n\")[-2].split()[2:]))})\n",
    "    \n",
    "    if top_n == 1:\n",
    "        go_category = json.load(open(os.path.join(DATA_DIR, \"GO_Category/go_category.json\"), \"r\"))\n",
    "        for k, v in go_category.items():\n",
    "            temp = df2[(df2['GO_Prediction'].isin(v)) | (df2['GO_Ground_Truth'].isin(v))]\n",
    "            wb_run.config.update({\n",
    "                \"F1_\" + k: classification_report(temp['GO_Ground_Truth'], temp['GO_Prediction'], zero_division=False).splitlines()[-1].split()[-2]})\n",
    "        wb_run.config.update({\"MEAN_SEMANTIC_SIMILARITY\": np.round(df2[['GO_Prediction','GO_Ground_Truth']].apply(lambda x: getsimj(x[0], x[1]), axis=1).mean(), 6)})  \n",
    "for k, v in report_summary.items():\n",
    "    print(k, \":\", v)\n",
    "wb_run.config.update(dict((\"F1_TOP_\" + k.split(\"_\")[-1], v['f1-score']) for k, v in report_summary.items()))"
   ]
  },
  {
   "cell_type": "code",
   "execution_count": null,
   "metadata": {
    "colab": {
     "base_uri": "https://localhost:8080/",
     "height": 124,
     "referenced_widgets": [
      "4bf9bd1db5154ce69d647488f36d1b99",
      "0dae64e3a06b449cb4726b9b2d80e01e",
      "1a5668a1b65147bdb8ff856acfb675ac",
      "9897a1687e194ee48317dc80e615b476",
      "b672c9482cf142f381ee337ff9dc4982",
      "f056cc11bcd444a7a838fd897b08f237",
      "0371565fd4914548b9582992b59f40c1",
      "e82b00ed15b04e9894c2485b452dd8c2"
     ]
    },
    "id": "bmYPyBDG8ZmP",
    "outputId": "f88f125e-d702-44e1-f803-61f45e9dc478"
   },
   "outputs": [
    {
     "data": {
      "text/html": [
       "<br/>Waiting for W&B process to finish, PID 1932... <strong style=\"color:green\">(success).</strong>"
      ],
      "text/plain": [
       "<IPython.core.display.HTML object>"
      ]
     },
     "metadata": {},
     "output_type": "display_data"
    },
    {
     "data": {
      "application/vnd.jupyter.widget-view+json": {
       "model_id": "4bf9bd1db5154ce69d647488f36d1b99",
       "version_major": 2,
       "version_minor": 0
      },
      "text/plain": [
       "VBox(children=(Label(value=' 882.04MB of 882.04MB uploaded (0.00MB deduped)\\r'), FloatProgress(value=1.0, max=…"
      ]
     },
     "metadata": {},
     "output_type": "display_data"
    },
    {
     "data": {
      "text/html": [
       "<style>\n",
       "    table.wandb td:nth-child(1) { padding: 0 10px; text-align: right }\n",
       "    .wandb-row { display: flex; flex-direction: row; flex-wrap: wrap; width: 100% }\n",
       "    .wandb-col { display: flex; flex-direction: column; flex-basis: 100%; flex: 1; padding: 10px; }\n",
       "    </style>\n",
       "<div class=\"wandb-row\"><div class=\"wandb-col\">\n",
       "</div><div class=\"wandb-col\">\n",
       "</div></div>\n",
       "Synced 5 W&B file(s), 0 media file(s), 6 artifact file(s) and 0 other file(s)\n",
       "<br/>Synced <strong style=\"color:#cdcd00\">ELMO_6</strong>: <a href=\"https://wandb.ai/p_devkota/ONER_FINAL/runs/2lcz0btw\" target=\"_blank\">https://wandb.ai/p_devkota/ONER_FINAL/runs/2lcz0btw</a><br/>\n",
       "Find logs at: <code>./wandb/run-20220130_211704-2lcz0btw/logs</code><br/>\n"
      ],
      "text/plain": [
       "<IPython.core.display.HTML object>"
      ]
     },
     "metadata": {},
     "output_type": "display_data"
    }
   ],
   "source": [
    "model_artifact = wandb.Artifact(\"model_architecture\", type=\"architecture\",\n",
    "                                description = \"GRU model architecture\")\n",
    "model_artifact.add_file('model.png')\n",
    "wb_run.log_artifact(model_artifact)\n",
    "\n",
    "model_artifact = wandb.Artifact(\"keras_model\", type=\"GRU_Model\")\n",
    "model.save(\"trained_model.keras\")\n",
    "model_artifact.add_file(\"trained_model.keras\")\n",
    "wb_run.log_artifact(model_artifact)\n",
    "\n",
    "prediction_artifact = wandb.Artifact(\"prediction_result\", type=\"report\")\n",
    "with prediction_artifact.new_file(\"report_summary.json\", \"w\") as f:\n",
    "    json.dump(report_summary, f)\n",
    "\n",
    "with prediction_artifact.new_file(\"prediction.npy\", \"wb\") as f:\n",
    "    np.save(f, predicted)\n",
    "wb_run.log_artifact(prediction_artifact)\n",
    "wb_run.finish()"
   ]
  },
  {
   "cell_type": "code",
   "execution_count": null,
   "metadata": {
    "id": "gDzdt5uxl9Zq"
   },
   "outputs": [],
   "source": []
  }
 ],
 "metadata": {
  "accelerator": "GPU",
  "colab": {
   "collapsed_sections": [],
   "machine_shape": "hm",
   "name": "BiGRU_w_pipelines.ipynb",
   "provenance": []
  },
  "kernelspec": {
   "display_name": "Python 3",
   "language": "python",
   "name": "python3"
  },
  "language_info": {
   "codemirror_mode": {
    "name": "ipython",
    "version": 3
   },
   "file_extension": ".py",
   "mimetype": "text/x-python",
   "name": "python",
   "nbconvert_exporter": "python",
   "pygments_lexer": "ipython3",
   "version": "3.7.10"
  },
  "widgets": {
   "application/vnd.jupyter.widget-state+json": {
    "0371565fd4914548b9582992b59f40c1": {
     "model_module": "@jupyter-widgets/controls",
     "model_module_version": "1.5.0",
     "model_name": "ProgressStyleModel",
     "state": {
      "_model_module": "@jupyter-widgets/controls",
      "_model_module_version": "1.5.0",
      "_model_name": "ProgressStyleModel",
      "_view_count": null,
      "_view_module": "@jupyter-widgets/base",
      "_view_module_version": "1.2.0",
      "_view_name": "StyleView",
      "bar_color": null,
      "description_width": ""
     }
    },
    "0dae64e3a06b449cb4726b9b2d80e01e": {
     "model_module": "@jupyter-widgets/base",
     "model_module_version": "1.2.0",
     "model_name": "LayoutModel",
     "state": {
      "_model_module": "@jupyter-widgets/base",
      "_model_module_version": "1.2.0",
      "_model_name": "LayoutModel",
      "_view_count": null,
      "_view_module": "@jupyter-widgets/base",
      "_view_module_version": "1.2.0",
      "_view_name": "LayoutView",
      "align_content": null,
      "align_items": null,
      "align_self": null,
      "border": null,
      "bottom": null,
      "display": null,
      "flex": null,
      "flex_flow": null,
      "grid_area": null,
      "grid_auto_columns": null,
      "grid_auto_flow": null,
      "grid_auto_rows": null,
      "grid_column": null,
      "grid_gap": null,
      "grid_row": null,
      "grid_template_areas": null,
      "grid_template_columns": null,
      "grid_template_rows": null,
      "height": null,
      "justify_content": null,
      "justify_items": null,
      "left": null,
      "margin": null,
      "max_height": null,
      "max_width": null,
      "min_height": null,
      "min_width": null,
      "object_fit": null,
      "object_position": null,
      "order": null,
      "overflow": null,
      "overflow_x": null,
      "overflow_y": null,
      "padding": null,
      "right": null,
      "top": null,
      "visibility": null,
      "width": null
     }
    },
    "1a5668a1b65147bdb8ff856acfb675ac": {
     "model_module": "@jupyter-widgets/controls",
     "model_module_version": "1.5.0",
     "model_name": "LabelModel",
     "state": {
      "_dom_classes": [],
      "_model_module": "@jupyter-widgets/controls",
      "_model_module_version": "1.5.0",
      "_model_name": "LabelModel",
      "_view_count": null,
      "_view_module": "@jupyter-widgets/controls",
      "_view_module_version": "1.5.0",
      "_view_name": "LabelView",
      "description": "",
      "description_tooltip": null,
      "layout": "IPY_MODEL_f056cc11bcd444a7a838fd897b08f237",
      "placeholder": "​",
      "style": "IPY_MODEL_b672c9482cf142f381ee337ff9dc4982",
      "value": " 882.28MB of 882.28MB uploaded (0.00MB deduped)\r"
     }
    },
    "4bf9bd1db5154ce69d647488f36d1b99": {
     "model_module": "@jupyter-widgets/controls",
     "model_module_version": "1.5.0",
     "model_name": "VBoxModel",
     "state": {
      "_dom_classes": [],
      "_model_module": "@jupyter-widgets/controls",
      "_model_module_version": "1.5.0",
      "_model_name": "VBoxModel",
      "_view_count": null,
      "_view_module": "@jupyter-widgets/controls",
      "_view_module_version": "1.5.0",
      "_view_name": "VBoxView",
      "box_style": "",
      "children": [
       "IPY_MODEL_1a5668a1b65147bdb8ff856acfb675ac",
       "IPY_MODEL_9897a1687e194ee48317dc80e615b476"
      ],
      "layout": "IPY_MODEL_0dae64e3a06b449cb4726b9b2d80e01e"
     }
    },
    "9897a1687e194ee48317dc80e615b476": {
     "model_module": "@jupyter-widgets/controls",
     "model_module_version": "1.5.0",
     "model_name": "FloatProgressModel",
     "state": {
      "_dom_classes": [],
      "_model_module": "@jupyter-widgets/controls",
      "_model_module_version": "1.5.0",
      "_model_name": "FloatProgressModel",
      "_view_count": null,
      "_view_module": "@jupyter-widgets/controls",
      "_view_module_version": "1.5.0",
      "_view_name": "ProgressView",
      "bar_style": "",
      "description": "",
      "description_tooltip": null,
      "layout": "IPY_MODEL_e82b00ed15b04e9894c2485b452dd8c2",
      "max": 1,
      "min": 0,
      "orientation": "horizontal",
      "style": "IPY_MODEL_0371565fd4914548b9582992b59f40c1",
      "value": 1
     }
    },
    "b672c9482cf142f381ee337ff9dc4982": {
     "model_module": "@jupyter-widgets/controls",
     "model_module_version": "1.5.0",
     "model_name": "DescriptionStyleModel",
     "state": {
      "_model_module": "@jupyter-widgets/controls",
      "_model_module_version": "1.5.0",
      "_model_name": "DescriptionStyleModel",
      "_view_count": null,
      "_view_module": "@jupyter-widgets/base",
      "_view_module_version": "1.2.0",
      "_view_name": "StyleView",
      "description_width": ""
     }
    },
    "e82b00ed15b04e9894c2485b452dd8c2": {
     "model_module": "@jupyter-widgets/base",
     "model_module_version": "1.2.0",
     "model_name": "LayoutModel",
     "state": {
      "_model_module": "@jupyter-widgets/base",
      "_model_module_version": "1.2.0",
      "_model_name": "LayoutModel",
      "_view_count": null,
      "_view_module": "@jupyter-widgets/base",
      "_view_module_version": "1.2.0",
      "_view_name": "LayoutView",
      "align_content": null,
      "align_items": null,
      "align_self": null,
      "border": null,
      "bottom": null,
      "display": null,
      "flex": null,
      "flex_flow": null,
      "grid_area": null,
      "grid_auto_columns": null,
      "grid_auto_flow": null,
      "grid_auto_rows": null,
      "grid_column": null,
      "grid_gap": null,
      "grid_row": null,
      "grid_template_areas": null,
      "grid_template_columns": null,
      "grid_template_rows": null,
      "height": null,
      "justify_content": null,
      "justify_items": null,
      "left": null,
      "margin": null,
      "max_height": null,
      "max_width": null,
      "min_height": null,
      "min_width": null,
      "object_fit": null,
      "object_position": null,
      "order": null,
      "overflow": null,
      "overflow_x": null,
      "overflow_y": null,
      "padding": null,
      "right": null,
      "top": null,
      "visibility": null,
      "width": null
     }
    },
    "f056cc11bcd444a7a838fd897b08f237": {
     "model_module": "@jupyter-widgets/base",
     "model_module_version": "1.2.0",
     "model_name": "LayoutModel",
     "state": {
      "_model_module": "@jupyter-widgets/base",
      "_model_module_version": "1.2.0",
      "_model_name": "LayoutModel",
      "_view_count": null,
      "_view_module": "@jupyter-widgets/base",
      "_view_module_version": "1.2.0",
      "_view_name": "LayoutView",
      "align_content": null,
      "align_items": null,
      "align_self": null,
      "border": null,
      "bottom": null,
      "display": null,
      "flex": null,
      "flex_flow": null,
      "grid_area": null,
      "grid_auto_columns": null,
      "grid_auto_flow": null,
      "grid_auto_rows": null,
      "grid_column": null,
      "grid_gap": null,
      "grid_row": null,
      "grid_template_areas": null,
      "grid_template_columns": null,
      "grid_template_rows": null,
      "height": null,
      "justify_content": null,
      "justify_items": null,
      "left": null,
      "margin": null,
      "max_height": null,
      "max_width": null,
      "min_height": null,
      "min_width": null,
      "object_fit": null,
      "object_position": null,
      "order": null,
      "overflow": null,
      "overflow_x": null,
      "overflow_y": null,
      "padding": null,
      "right": null,
      "top": null,
      "visibility": null,
      "width": null
     }
    }
   }
  }
 },
 "nbformat": 4,
 "nbformat_minor": 4
}
