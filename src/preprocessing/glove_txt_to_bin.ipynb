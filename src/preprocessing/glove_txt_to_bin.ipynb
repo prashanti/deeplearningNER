{
 "cells": [
  {
   "cell_type": "markdown",
   "metadata": {
    "id": "kUT5yrZ5zEFn"
   },
   "source": [
    "## Import Modules"
   ]
  },
  {
   "cell_type": "code",
   "execution_count": 4,
   "metadata": {
    "id": "DJNe3qPezCFB"
   },
   "outputs": [],
   "source": [
    "import os\n",
    "from os.path import dirname, abspath, join\n",
    "from gensim.models import KeyedVectors\n",
    "from gensim.scripts.glove2word2vec import glove2word2vec"
   ]
  },
  {
   "cell_type": "markdown",
   "metadata": {
    "id": "HnA90Xqe8pcP"
   },
   "source": [
    "## Define files and folder location"
   ]
  },
  {
   "cell_type": "code",
   "execution_count": 31,
   "metadata": {
    "id": "ihAOidwXzew9"
   },
   "outputs": [],
   "source": [
    "BASE_DIR = dirname(dirname(dirname(abspath(\"__file__\"))))\n",
    "DATA_DIR = join(BASE_DIR, \"data\")\n",
    "EMB_DIR = join(DATA_DIR, \"Embedding\")\n",
    "if not os.path.exists(EMB_DIR): os.makedirs(EMB_DIR)\n",
    "FILENAME = \"glove.840B.300d.zip\"\n",
    "os.environ[\"EMB_DIR\"] = EMB_DIR\n",
    "os.environ[\"FILENAME\"] = FILENAME"
   ]
  },
  {
   "cell_type": "markdown",
   "metadata": {
    "id": "FUb18Za28ycu"
   },
   "source": [
    "## Download, unzip and remove zip file"
   ]
  },
  {
   "cell_type": "code",
   "execution_count": 33,
   "metadata": {
    "colab": {
     "base_uri": "https://localhost:8080/"
    },
    "id": "jeY_kHviKk9A",
    "outputId": "8312bcc3-86f4-444c-84d4-5842a9cb428e"
   },
   "outputs": [
    {
     "name": "stdout",
     "output_type": "stream",
     "text": [
      "--2022-03-06 06:24:57--  https://huggingface.co/stanfordnlp/glove/resolve/main/glove.840B.300d.zip\n",
      "Resolving huggingface.co (huggingface.co)... 34.224.55.150, 34.204.221.201, 34.200.173.213, ...\n",
      "Connecting to huggingface.co (huggingface.co)|34.224.55.150|:443... connected.\n",
      "HTTP request sent, awaiting response... 302 Found\n",
      "Location: https://cdn-lfs.huggingface.co/stanfordnlp/glove/f47355dd5b267bd10f08671e513790690233c76a9ffd73aa915d78f894a8912e [following]\n",
      "--2022-03-06 06:24:57--  https://cdn-lfs.huggingface.co/stanfordnlp/glove/f47355dd5b267bd10f08671e513790690233c76a9ffd73aa915d78f894a8912e\n",
      "Resolving cdn-lfs.huggingface.co (cdn-lfs.huggingface.co)... 54.192.192.58, 54.192.192.25, 54.192.192.97, ...\n",
      "Connecting to cdn-lfs.huggingface.co (cdn-lfs.huggingface.co)|54.192.192.58|:443... connected.\n",
      "HTTP request sent, awaiting response... 200 OK\n",
      "Length: 2176768976 (2.0G) [application/zip]\n",
      "Saving to: ‘glove.840B.300d.zip’\n",
      "\n",
      "glove.840B.300d.zip 100%[===================>]   2.03G  78.2MB/s    in 22s     \n",
      "\n",
      "2022-03-06 06:25:19 (93.6 MB/s) - ‘glove.840B.300d.zip’ saved [2176768976/2176768976]\n",
      "\n",
      "Archive:  glove.840B.300d.zip\n",
      "  inflating: /data/Embedding/glove.840B.300d.txt  \n"
     ]
    }
   ],
   "source": [
    "!wget https://huggingface.co/stanfordnlp/glove/resolve/main/$FILENAME\n",
    "!unzip $FILENAME -d $EMB_DIR\n",
    "!rm $FILENAME"
   ]
  },
  {
   "cell_type": "markdown",
   "metadata": {
    "id": "EH3PaEKk8-bm"
   },
   "source": [
    "## Convert text to bin\n",
    "\n",
    "* For lower memory consumption"
   ]
  },
  {
   "cell_type": "code",
   "execution_count": 37,
   "metadata": {
    "id": "7n37h7yKMaC5"
   },
   "outputs": [],
   "source": [
    "input_file = join(EMB_DIR, FILENAME.replace(\"zip\", \"txt\"))\n",
    "output_file = join(EMB_DIR, \"word2vec.txt\")\n",
    "glove2word2vec(input_file, output_file)\n",
    "\n",
    "model = KeyedVectors.load_word2vec_format(output_file, binary=False)\n",
    "bin_file = join(EMB_DIR, FILENAME.replace(\"zip\", \"bin\"))\n",
    "model.save_word2vec_format(bin_file, binary=True)\n",
    "os.remove(output_file)\n",
    "os.remove(input_file)"
   ]
  },
  {
   "cell_type": "code",
   "execution_count": null,
   "metadata": {
    "id": "tF_quFVy8cBh"
   },
   "outputs": [],
   "source": []
  }
 ],
 "metadata": {
  "colab": {
   "collapsed_sections": [],
   "name": "Glove_txt_to_bin.ipynb",
   "provenance": []
  },
  "kernelspec": {
   "display_name": "Python 3",
   "language": "python",
   "name": "python3"
  },
  "language_info": {
   "codemirror_mode": {
    "name": "ipython",
    "version": 3
   },
   "file_extension": ".py",
   "mimetype": "text/x-python",
   "name": "python",
   "nbconvert_exporter": "python",
   "pygments_lexer": "ipython3",
   "version": "3.7.10"
  }
 },
 "nbformat": 4,
 "nbformat_minor": 4
}
